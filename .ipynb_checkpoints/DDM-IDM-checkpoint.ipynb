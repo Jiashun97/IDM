{
 "cells": [
  {
   "cell_type": "code",
   "execution_count": null,
   "metadata": {
    "colab": {
     "base_uri": "https://localhost:8080/"
    },
    "executionInfo": {
     "elapsed": 9305,
     "status": "ok",
     "timestamp": 1700752529038,
     "user": {
      "displayName": "Christopher Donkin",
      "userId": "07344201841238733229"
     },
     "user_tz": -60
    },
    "id": "wnInLkdvCb7V",
    "outputId": "e3adda8a-eae9-407c-ce85-a3a42b5dfc31"
   },
   "outputs": [
    {
     "name": "stdout",
     "output_type": "stream",
     "text": [
      "\u001b[2K     \u001b[90m━━━━━━━━━━━━━━━━━━━━━━━━━━━━━━━━━━━━━━━━\u001b[0m \u001b[32m269.3/269.3 kB\u001b[0m \u001b[31m4.8 MB/s\u001b[0m eta \u001b[36m0:00:00\u001b[0m\n",
      "\u001b[2K     \u001b[90m━━━━━━━━━━━━━━━━━━━━━━━━━━━━━━━━━━━━━━━━\u001b[0m \u001b[32m732.8/732.8 kB\u001b[0m \u001b[31m39.0 MB/s\u001b[0m eta \u001b[36m0:00:00\u001b[0m\n",
      "\u001b[2K     \u001b[90m━━━━━━━━━━━━━━━━━━━━━━━━━━━━━━━━━━━━━━━━\u001b[0m \u001b[32m45.8/45.8 kB\u001b[0m \u001b[31m6.0 MB/s\u001b[0m eta \u001b[36m0:00:00\u001b[0m\n",
      "\u001b[?25h  Preparing metadata (setup.py) ... \u001b[?25l\u001b[?25hdone\n",
      "  Building wheel for nflows (setup.py) ... \u001b[?25l\u001b[?25hdone\n"
     ]
    }
   ],
   "source": [
    "pip install -q sbi"
   ]
  },
  {
   "cell_type": "code",
   "execution_count": null,
   "metadata": {
    "colab": {
     "base_uri": "https://localhost:8080/"
    },
    "executionInfo": {
     "elapsed": 119121,
     "status": "ok",
     "timestamp": 1700752648122,
     "user": {
      "displayName": "Christopher Donkin",
      "userId": "07344201841238733229"
     },
     "user_tz": -60
    },
    "id": "aXZUVuuw9KCu",
    "outputId": "aa35f09a-7f93-4348-ede9-0e5d1dc2efe7"
   },
   "outputs": [
    {
     "name": "stdout",
     "output_type": "stream",
     "text": [
      "Mounted at /content/drive\n"
     ]
    }
   ],
   "source": [
    "from google.colab import drive\n",
    "drive.mount('/content/drive')\n",
    "\n",
    "import os\n",
    "os.chdir(\"/content/drive/MyDrive/IDM project\")\n",
    "\n",
    "%run IDM_helper_functions.ipynb"
   ]
  },
  {
   "cell_type": "code",
   "execution_count": null,
   "metadata": {
    "colab": {
     "background_save": true
    },
    "id": "0pe5gXlJAWl2"
   },
   "outputs": [],
   "source": [
    "# Training data\n",
    "n_sim_train = 1000000\n",
    "prior_IDM_cpu = utils.BoxUniform(low=[0,0.2,0.1,0.01], high=[1,0.6,1,0.1]) # simulated data cannot be on gpu\n",
    "param_IDM_cpu_train = prior_IDM_cpu.sample((n_sim_train,))\n",
    "\n",
    "x_IDM_train = simul_IDM_EM4_D_bs700(np.array(param_IDM_cpu_train))\n",
    "\n",
    "param_IDM_cpu_train = param_IDM_cpu_train[x_IDM_train[:,1]!=100] ## remove trials longer than 3s\n",
    "x_IDM_train = x_IDM_train[x_IDM_train[:,1]!=100] ## remove trials longer than 3s\n",
    "\n",
    "param_IDM_cpu_train = param_IDM_cpu_train[x_IDM_train[:,0]<3] ## remove trials longer than 3s\n",
    "x_IDM_train = x_IDM_train[x_IDM_train[:,0]<3] ## remove trials longer than 3s\n",
    "\n",
    "prior_IDM = utils.BoxUniform(low=[0,0.2,0.1,0.01], high=[1,0.6,1,0.1], device = \"cuda\")\n"
   ]
  },
  {
   "cell_type": "code",
   "execution_count": null,
   "metadata": {
    "colab": {
     "background_save": true
    },
    "id": "9lHXtB98wF4l"
   },
   "outputs": [],
   "source": [
    "from sbi.inference import MNLE\n",
    "from sbi.utils import likelihood_nn\n",
    "# build mnle net\n",
    "neural_net = likelihood_nn(model=\"mnle\",\n",
    "  num_transforms=5,  # number of transforms in the neural spline flow (the more the more expressive, but slower) 2\n",
    "  num_bins = 10,  # number of bins for the splines (the more the more expressive, but slower) 5\n",
    "  hidden_features = 200,  # number of hidden units for the Categorical net and the Spline Flow) 50\n",
    "  hidden_layers = 5,  # number of hidden layers 2\n",
    "  tail_bound = 10.0,  # upper and lower bound for neural splines\n",
    "  log_transform_x = True,  # whether to log-transform the reaction times to make them unbounded.\n",
    "                          )\n"
   ]
  },
  {
   "cell_type": "code",
   "execution_count": null,
   "metadata": {
    "colab": {
     "background_save": true
    },
    "id": "RDS3OlYqAYci",
    "outputId": "49f0a9f5-6d4d-473a-b112-e7f2174bd3af"
   },
   "outputs": [
    {
     "name": "stderr",
     "output_type": "stream",
     "text": [
      "/content/drive/MyDrive/IDM project/sbi/utils/user_input_checks.py:711: UserWarning: Data x has device 'cpu'.Moving x to the data_device 'cuda:0'.Training will proceed on device 'cuda:0'.\n",
      "  warnings.warn(\n",
      "/content/drive/MyDrive/IDM project/sbi/utils/user_input_checks.py:719: UserWarning: Parameters theta has device 'cpu'. Moving theta to the data_device 'cuda:0'.Training will proceed on device 'cuda:0'.\n",
      "  warnings.warn(\n",
      "/content/drive/MyDrive/IDM project/sbi/neural_nets/mnle.py:60: UserWarning: The mixed neural likelihood estimator assumes that x contains\n",
      "        continuous data in the first n-1 columns (e.g., reaction times) and\n",
      "        categorical data in the last column (e.g., corresponding choices). If\n",
      "        this is not the case for the passed `x` do not use this function.\n",
      "  warnings.warn(\n"
     ]
    },
    {
     "name": "stdout",
     "output_type": "stream",
     "text": [
      " Neural network successfully converged after 51 epochs.\n",
      "        -------------------------\n",
      "        ||||| ROUND 1 STATS |||||:\n",
      "        -------------------------\n",
      "        Epochs trained: 51\n",
      "        Best validation performance: 1.2967\n",
      "        -------------------------\n",
      "        \n"
     ]
    }
   ],
   "source": [
    "# Train MNLE and obtain MCMC-based posterior.\n",
    "\n",
    "trainer = MNLE(prior=prior_IDM, density_estimator=neural_net, device = \"cuda\")\n",
    "trainer = trainer.append_simulations(param_IDM_cpu_train, x_IDM_train)\n",
    "mnle = trainer.train(training_batch_size = 1000, discard_prior_samples = True, show_train_summary = True)\n"
   ]
  },
  {
   "cell_type": "code",
   "execution_count": null,
   "metadata": {
    "colab": {
     "background_save": true
    },
    "id": "KpnoqSvy_5_i",
    "outputId": "b904dbbf-e0d5-4690-9f7c-0c5253d25eee"
   },
   "outputs": [
    {
     "name": "stderr",
     "output_type": "stream",
     "text": [
      "/content/drive/MyDrive/IDM project/sbi/inference/base.py:429: UserWarning: When the inference object is pickled, the behaviour of the loaded object changes in the following two ways: 1) `.train(..., retrain_from_scratch=True)` is not supported. 2) When the loaded object calls the `.train()` method, it generates a new tensorboard summary writer (instead of appending to the current one).\n",
      "  warn(\n"
     ]
    }
   ],
   "source": [
    "torch.save(trainer, \"/content/drive/MyDrive/IDM project/IDM_EM4_D_bs700_corrected\")\n",
    "#trainer = torch.load(\"IDM_EM4_D_bs700_corrected\")"
   ]
  },
  {
   "cell_type": "markdown",
   "metadata": {
    "id": "vS3QviberrnP"
   },
   "source": [
    "## Cross-fitting between DDM and IDM"
   ]
  },
  {
   "cell_type": "code",
   "execution_count": null,
   "metadata": {
    "colab": {
     "background_save": true
    },
    "id": "cgIxWy6AeA3u",
    "outputId": "6de5c2aa-01d2-49b2-a20a-0af818760f8f"
   },
   "outputs": [
    {
     "name": "stderr",
     "output_type": "stream",
     "text": [
      "/content/drive/MyDrive/IDM project/sbi/utils/torchutils.py:27: UserWarning: GPU was selected as a device for training the neural network. Note that we expect **no** significant speed ups in training for the default architectures we provide. Using the GPU will be effective only for large neural networks with operations that are fast on the GPU, e.g., for a CNN or RNN `embedding_net`.\n",
      "  warnings.warn(\n"
     ]
    }
   ],
   "source": [
    "n_trials = 1000\n",
    "sim_num = 100\n",
    "\n",
    "prior_DDM_cpu = utils.BoxUniform(low=[0,0.5,0.2], high=[4,2,0.5]) # simulated data cannot be on gpu\n",
    "param_DDM_cpu = prior_DDM_cpu.sample((sim_num,))\n",
    "prior_IDM = utils.BoxUniform(low=[0,0.2,0.1,0.01], high=[1,0.6,1,0.1], device = \"cuda\")\n",
    "\n",
    "par_fitted = np.zeros((sim_num,4))"
   ]
  },
  {
   "cell_type": "code",
   "execution_count": null,
   "metadata": {
    "colab": {
     "background_save": true
    },
    "id": "RIEcafGleBFq"
   },
   "outputs": [],
   "source": [
    "for i in range(sim_num):\n",
    "    print(i)\n",
    "    IDM_o = simul_DDM(np.tile(param_DDM_cpu[i,:], (n_trials,1))) #\n",
    "    IDM_o = IDM_o[IDM_o[:,1]!=100] ## remove trials longer than 3s\n",
    "    IDM_o = IDM_o[IDM_o[:,0]<3] ## remove trials longer than 3s\n",
    "    print(IDM_o.shape)\n",
    "    mcmc_parameters = dict(num_chains=50,thin=10,warmup_steps=50,init_strategy=\"proposal\")\n",
    "    mnle_posterior = trainer.build_posterior(prior = prior_IDM,\n",
    "                                             mcmc_method=\"slice_np_vectorized\",\n",
    "                                             mcmc_parameters=mcmc_parameters)\n",
    "\n",
    "    mnle_posterior.set_default_x(IDM_o)\n",
    "    mnle_map = mnle_posterior.map()\n",
    "    print(param_DDM_cpu[i,:])\n",
    "    print(mnle_map)\n",
    "    par_fitted[i,:] = np.array(mnle_map.cpu())"
   ]
  },
  {
   "cell_type": "code",
   "execution_count": null,
   "metadata": {
    "colab": {
     "background_save": true
    },
    "id": "539C9Jg-7ko6"
   },
   "outputs": [],
   "source": [
    "par_labels = [\"Drift Rate\", \"Boundary Separation\", \"Non-decision Time\"]\n",
    "par_fitted_labels = [\"Stimulus Distinctness\", \"Detection Box Size\", \"Non-decision Time\", \"Diffusion Constant\"]\n",
    "sim_fit_plot_all(param_DDM_cpu, par_fitted, par_labels, par_fitted_labels, fontsize=20, s = 20, figsize=(12,16))"
   ]
  },
  {
   "cell_type": "code",
   "execution_count": null,
   "metadata": {
    "id": "Fd7XQlHAeB_V"
   },
   "outputs": [],
   "source": []
  },
  {
   "cell_type": "markdown",
   "metadata": {
    "id": "ZxGKOClQr2te"
   },
   "source": [
    "# Parameter recovery of IDM"
   ]
  },
  {
   "cell_type": "code",
   "execution_count": null,
   "metadata": {
    "colab": {
     "base_uri": "https://localhost:8080/"
    },
    "executionInfo": {
     "elapsed": 605,
     "status": "ok",
     "timestamp": 1700686666964,
     "user": {
      "displayName": "Christopher Donkin",
      "userId": "07344201841238733229"
     },
     "user_tz": -60
    },
    "id": "KqAbPwKBBPRm",
    "outputId": "8f46a949-577a-44ad-aff5-77334a3bf14a"
   },
   "outputs": [
    {
     "name": "stderr",
     "output_type": "stream",
     "text": [
      "/content/drive/MyDrive/IDM project/sbi/utils/torchutils.py:27: UserWarning: GPU was selected as a device for training the neural network. Note that we expect **no** significant speed ups in training for the default architectures we provide. Using the GPU will be effective only for large neural networks with operations that are fast on the GPU, e.g., for a CNN or RNN `embedding_net`.\n",
      "  warnings.warn(\n"
     ]
    }
   ],
   "source": [
    "n_trials = 1000\n",
    "sim_num = 100\n",
    "#param_IDM_cpu = prior_IDM_cpu.sample((sim_num,))\n",
    "par_fitted = np.zeros((sim_num,4))\n",
    "prior_IDM_cpu = utils.BoxUniform(low=[0,0.2,0.1,0.01], high=[1,0.6,1,0.1]) # simulated data cannot be on gpu\n",
    "param_IDM_cpu = prior_IDM_cpu.sample((sim_num,))\n",
    "\n",
    "prior_IDM = utils.BoxUniform(low=[0,0.2,0.1,0.01], high=[1,0.6,1,0.1], device = \"cuda\")\n"
   ]
  },
  {
   "cell_type": "code",
   "execution_count": null,
   "metadata": {
    "id": "3jy3MCiQF9Zu"
   },
   "outputs": [],
   "source": [
    "for i in range(sim_num):\n",
    "    print(i)\n",
    "    IDM_o = simul_IDM_EM4_D_bs700(np.tile(param_IDM_cpu[i,:], (n_trials,1))) #\n",
    "    IDM_o = IDM_o[IDM_o[:,1]!=100] ## remove trials longer than 3s\n",
    "    IDM_o = IDM_o[IDM_o[:,0]<3] ## remove trials longer than 3s\n",
    "\n",
    "    mcmc_parameters = dict(num_chains=50,thin=10,warmup_steps=50,init_strategy=\"proposal\")\n",
    "    mnle_posterior = trainer.build_posterior(prior = prior_IDM,\n",
    "                                             mcmc_method=\"slice_np_vectorized\",\n",
    "                                             mcmc_parameters=mcmc_parameters)\n",
    "\n",
    "    mnle_posterior.set_default_x(IDM_o)\n",
    "    mnle_map = mnle_posterior.map()\n",
    "    print(param_IDM_cpu[i,:])\n",
    "    print(mnle_map)\n",
    "    par_fitted[i,:] = np.array(mnle_map.cpu())"
   ]
  },
  {
   "cell_type": "code",
   "execution_count": null,
   "metadata": {
    "id": "aJh_jJ9L0zi9"
   },
   "outputs": [],
   "source": [
    "par_labels = [\"Stimulus Distinctness\", \"Detection Box Size\", \"Non-decision Time\", \"Diffusion Constant\"]\n",
    "par_fitted_labels = [\"Stimulus Distinctness\", \"Detection Box Size\", \"Non-decision Time\", \"Diffusion Constant\"]\n",
    "sim_fit_plot_all(param_IDM_cpu, par_fitted, par_labels, par_fitted_labels, fontsize = 20, s = 20, figsize=(16,16))"
   ]
  },
  {
   "cell_type": "code",
   "execution_count": null,
   "metadata": {
    "id": "u9WRetf45WiR"
   },
   "outputs": [],
   "source": []
  },
  {
   "cell_type": "code",
   "execution_count": null,
   "metadata": {
    "id": "U5-N3m-UDrHL"
   },
   "outputs": [],
   "source": []
  },
  {
   "cell_type": "code",
   "execution_count": null,
   "metadata": {
    "id": "iWRfJRCofM4T"
   },
   "outputs": [],
   "source": []
  },
  {
   "cell_type": "code",
   "execution_count": null,
   "metadata": {
    "id": "oGV17CDyK-WR"
   },
   "outputs": [],
   "source": []
  }
 ],
 "metadata": {
  "accelerator": "GPU",
  "colab": {
   "machine_shape": "hm",
   "provenance": [
    {
     "file_id": "1-QH06In_sDKCrEg5QD-ql4JRgCJMj_IR",
     "timestamp": 1703100965773
    }
   ]
  },
  "kernelspec": {
   "display_name": "Python 3 (ipykernel)",
   "language": "python",
   "name": "python3"
  },
  "language_info": {
   "codemirror_mode": {
    "name": "ipython",
    "version": 3
   },
   "file_extension": ".py",
   "mimetype": "text/x-python",
   "name": "python",
   "nbconvert_exporter": "python",
   "pygments_lexer": "ipython3",
   "version": "3.11.4"
  }
 },
 "nbformat": 4,
 "nbformat_minor": 1
}
